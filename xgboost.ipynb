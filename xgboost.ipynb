{
 "cells": [
  {
   "cell_type": "markdown",
   "metadata": {},
   "source": [
    "## xgboost使用简介："
   ]
  },
  {
   "cell_type": "code",
   "execution_count": 1,
   "metadata": {},
   "outputs": [],
   "source": [
    "# 使用xgboost库的两种方法：\n",
    "#1、直接使用xgboost库自己的建模方法\n",
    "# 1)读取数据:xgb.DMatrix()必须使用库自带的类读取数据\n",
    "# 2)设置参数:param={}先设置参数 \n",
    "# 3)训练模型:bst=xgb.train(param)\n",
    "# 4)预测结果:bst.predict()得出预测结果导出，需要另外对结果评估\n",
    "#2、使用xgboost库中的sklearn的API\n",
    "\n",
    "#参数的分类：XGBoost本身的核心是基于梯度提升树实现的集成算法\n",
    "#集成算法本身相关的参数\n",
    "#若评估器（集成中小的分类器）相关的参数\n",
    "#其他参数\n",
    "\n",
    "\n",
    "#对于决策树而言，分类树：预测输入值落入叶子节点的结果，是训练时落入此节点的少数服从多数的结果\n",
    "#                回归树：预测输入值落入叶子节点的结果，是训练时落入此节点的结果的均值\n",
    "\n",
    "# 对于梯度提升回归树来说，每个样本的预测结果可以表示为所有树上结果的加权求和\n",
    "#XGB作为GBDT的改进，每个样本的预测结果可以表示为所有树上结果的加权求和，所有树上的结果不是均值和多数，是一个函数结果\n"
   ]
  },
  {
   "cell_type": "code",
   "execution_count": 2,
   "metadata": {},
   "outputs": [],
   "source": [
    "#从模块中导入类或者方法，模块可以指一个文件\n",
    "from xgboost import XGBRegressor as XGBR\n",
    "from sklearn.ensemble import RandomForestRegressor as RFR\n",
    "from sklearn.linear_model import LinearRegression as LinearR\n",
    "from sklearn.datasets import load_boston\n",
    "from sklearn.model_selection import KFold,cross_val_score as CVS,train_test_split as TTS\n",
    "from sklearn.metrics import mean_squared_error as MSE\n",
    "import pandas as pd\n",
    "import numpy as np\n",
    "import matplotlib.pyplot as plt\n",
    "from time import time\n",
    "import datetime"
   ]
  },
  {
   "cell_type": "code",
   "execution_count": 3,
   "metadata": {},
   "outputs": [],
   "source": [
    "data=load_boston()\n",
    "#波士顿数据集"
   ]
  },
  {
   "cell_type": "code",
   "execution_count": 4,
   "metadata": {},
   "outputs": [
    {
     "data": {
      "text/plain": [
       "{'data': array([[6.3200e-03, 1.8000e+01, 2.3100e+00, ..., 1.5300e+01, 3.9690e+02,\n",
       "         4.9800e+00],\n",
       "        [2.7310e-02, 0.0000e+00, 7.0700e+00, ..., 1.7800e+01, 3.9690e+02,\n",
       "         9.1400e+00],\n",
       "        [2.7290e-02, 0.0000e+00, 7.0700e+00, ..., 1.7800e+01, 3.9283e+02,\n",
       "         4.0300e+00],\n",
       "        ...,\n",
       "        [6.0760e-02, 0.0000e+00, 1.1930e+01, ..., 2.1000e+01, 3.9690e+02,\n",
       "         5.6400e+00],\n",
       "        [1.0959e-01, 0.0000e+00, 1.1930e+01, ..., 2.1000e+01, 3.9345e+02,\n",
       "         6.4800e+00],\n",
       "        [4.7410e-02, 0.0000e+00, 1.1930e+01, ..., 2.1000e+01, 3.9690e+02,\n",
       "         7.8800e+00]]),\n",
       " 'target': array([24. , 21.6, 34.7, 33.4, 36.2, 28.7, 22.9, 27.1, 16.5, 18.9, 15. ,\n",
       "        18.9, 21.7, 20.4, 18.2, 19.9, 23.1, 17.5, 20.2, 18.2, 13.6, 19.6,\n",
       "        15.2, 14.5, 15.6, 13.9, 16.6, 14.8, 18.4, 21. , 12.7, 14.5, 13.2,\n",
       "        13.1, 13.5, 18.9, 20. , 21. , 24.7, 30.8, 34.9, 26.6, 25.3, 24.7,\n",
       "        21.2, 19.3, 20. , 16.6, 14.4, 19.4, 19.7, 20.5, 25. , 23.4, 18.9,\n",
       "        35.4, 24.7, 31.6, 23.3, 19.6, 18.7, 16. , 22.2, 25. , 33. , 23.5,\n",
       "        19.4, 22. , 17.4, 20.9, 24.2, 21.7, 22.8, 23.4, 24.1, 21.4, 20. ,\n",
       "        20.8, 21.2, 20.3, 28. , 23.9, 24.8, 22.9, 23.9, 26.6, 22.5, 22.2,\n",
       "        23.6, 28.7, 22.6, 22. , 22.9, 25. , 20.6, 28.4, 21.4, 38.7, 43.8,\n",
       "        33.2, 27.5, 26.5, 18.6, 19.3, 20.1, 19.5, 19.5, 20.4, 19.8, 19.4,\n",
       "        21.7, 22.8, 18.8, 18.7, 18.5, 18.3, 21.2, 19.2, 20.4, 19.3, 22. ,\n",
       "        20.3, 20.5, 17.3, 18.8, 21.4, 15.7, 16.2, 18. , 14.3, 19.2, 19.6,\n",
       "        23. , 18.4, 15.6, 18.1, 17.4, 17.1, 13.3, 17.8, 14. , 14.4, 13.4,\n",
       "        15.6, 11.8, 13.8, 15.6, 14.6, 17.8, 15.4, 21.5, 19.6, 15.3, 19.4,\n",
       "        17. , 15.6, 13.1, 41.3, 24.3, 23.3, 27. , 50. , 50. , 50. , 22.7,\n",
       "        25. , 50. , 23.8, 23.8, 22.3, 17.4, 19.1, 23.1, 23.6, 22.6, 29.4,\n",
       "        23.2, 24.6, 29.9, 37.2, 39.8, 36.2, 37.9, 32.5, 26.4, 29.6, 50. ,\n",
       "        32. , 29.8, 34.9, 37. , 30.5, 36.4, 31.1, 29.1, 50. , 33.3, 30.3,\n",
       "        34.6, 34.9, 32.9, 24.1, 42.3, 48.5, 50. , 22.6, 24.4, 22.5, 24.4,\n",
       "        20. , 21.7, 19.3, 22.4, 28.1, 23.7, 25. , 23.3, 28.7, 21.5, 23. ,\n",
       "        26.7, 21.7, 27.5, 30.1, 44.8, 50. , 37.6, 31.6, 46.7, 31.5, 24.3,\n",
       "        31.7, 41.7, 48.3, 29. , 24. , 25.1, 31.5, 23.7, 23.3, 22. , 20.1,\n",
       "        22.2, 23.7, 17.6, 18.5, 24.3, 20.5, 24.5, 26.2, 24.4, 24.8, 29.6,\n",
       "        42.8, 21.9, 20.9, 44. , 50. , 36. , 30.1, 33.8, 43.1, 48.8, 31. ,\n",
       "        36.5, 22.8, 30.7, 50. , 43.5, 20.7, 21.1, 25.2, 24.4, 35.2, 32.4,\n",
       "        32. , 33.2, 33.1, 29.1, 35.1, 45.4, 35.4, 46. , 50. , 32.2, 22. ,\n",
       "        20.1, 23.2, 22.3, 24.8, 28.5, 37.3, 27.9, 23.9, 21.7, 28.6, 27.1,\n",
       "        20.3, 22.5, 29. , 24.8, 22. , 26.4, 33.1, 36.1, 28.4, 33.4, 28.2,\n",
       "        22.8, 20.3, 16.1, 22.1, 19.4, 21.6, 23.8, 16.2, 17.8, 19.8, 23.1,\n",
       "        21. , 23.8, 23.1, 20.4, 18.5, 25. , 24.6, 23. , 22.2, 19.3, 22.6,\n",
       "        19.8, 17.1, 19.4, 22.2, 20.7, 21.1, 19.5, 18.5, 20.6, 19. , 18.7,\n",
       "        32.7, 16.5, 23.9, 31.2, 17.5, 17.2, 23.1, 24.5, 26.6, 22.9, 24.1,\n",
       "        18.6, 30.1, 18.2, 20.6, 17.8, 21.7, 22.7, 22.6, 25. , 19.9, 20.8,\n",
       "        16.8, 21.9, 27.5, 21.9, 23.1, 50. , 50. , 50. , 50. , 50. , 13.8,\n",
       "        13.8, 15. , 13.9, 13.3, 13.1, 10.2, 10.4, 10.9, 11.3, 12.3,  8.8,\n",
       "         7.2, 10.5,  7.4, 10.2, 11.5, 15.1, 23.2,  9.7, 13.8, 12.7, 13.1,\n",
       "        12.5,  8.5,  5. ,  6.3,  5.6,  7.2, 12.1,  8.3,  8.5,  5. , 11.9,\n",
       "        27.9, 17.2, 27.5, 15. , 17.2, 17.9, 16.3,  7. ,  7.2,  7.5, 10.4,\n",
       "         8.8,  8.4, 16.7, 14.2, 20.8, 13.4, 11.7,  8.3, 10.2, 10.9, 11. ,\n",
       "         9.5, 14.5, 14.1, 16.1, 14.3, 11.7, 13.4,  9.6,  8.7,  8.4, 12.8,\n",
       "        10.5, 17.1, 18.4, 15.4, 10.8, 11.8, 14.9, 12.6, 14.1, 13. , 13.4,\n",
       "        15.2, 16.1, 17.8, 14.9, 14.1, 12.7, 13.5, 14.9, 20. , 16.4, 17.7,\n",
       "        19.5, 20.2, 21.4, 19.9, 19. , 19.1, 19.1, 20.1, 19.9, 19.6, 23.2,\n",
       "        29.8, 13.8, 13.3, 16.7, 12. , 14.6, 21.4, 23. , 23.7, 25. , 21.8,\n",
       "        20.6, 21.2, 19.1, 20.6, 15.2,  7. ,  8.1, 13.6, 20.1, 21.8, 24.5,\n",
       "        23.1, 19.7, 18.3, 21.2, 17.5, 16.8, 22.4, 20.6, 23.9, 22. , 11.9]),\n",
       " 'feature_names': array(['CRIM', 'ZN', 'INDUS', 'CHAS', 'NOX', 'RM', 'AGE', 'DIS', 'RAD',\n",
       "        'TAX', 'PTRATIO', 'B', 'LSTAT'], dtype='<U7'),\n",
       " 'DESCR': \".. _boston_dataset:\\n\\nBoston house prices dataset\\n---------------------------\\n\\n**Data Set Characteristics:**  \\n\\n    :Number of Instances: 506 \\n\\n    :Number of Attributes: 13 numeric/categorical predictive. Median Value (attribute 14) is usually the target.\\n\\n    :Attribute Information (in order):\\n        - CRIM     per capita crime rate by town\\n        - ZN       proportion of residential land zoned for lots over 25,000 sq.ft.\\n        - INDUS    proportion of non-retail business acres per town\\n        - CHAS     Charles River dummy variable (= 1 if tract bounds river; 0 otherwise)\\n        - NOX      nitric oxides concentration (parts per 10 million)\\n        - RM       average number of rooms per dwelling\\n        - AGE      proportion of owner-occupied units built prior to 1940\\n        - DIS      weighted distances to five Boston employment centres\\n        - RAD      index of accessibility to radial highways\\n        - TAX      full-value property-tax rate per $10,000\\n        - PTRATIO  pupil-teacher ratio by town\\n        - B        1000(Bk - 0.63)^2 where Bk is the proportion of blacks by town\\n        - LSTAT    % lower status of the population\\n        - MEDV     Median value of owner-occupied homes in $1000's\\n\\n    :Missing Attribute Values: None\\n\\n    :Creator: Harrison, D. and Rubinfeld, D.L.\\n\\nThis is a copy of UCI ML housing dataset.\\nhttps://archive.ics.uci.edu/ml/machine-learning-databases/housing/\\n\\n\\nThis dataset was taken from the StatLib library which is maintained at Carnegie Mellon University.\\n\\nThe Boston house-price data of Harrison, D. and Rubinfeld, D.L. 'Hedonic\\nprices and the demand for clean air', J. Environ. Economics & Management,\\nvol.5, 81-102, 1978.   Used in Belsley, Kuh & Welsch, 'Regression diagnostics\\n...', Wiley, 1980.   N.B. Various transformations are used in the table on\\npages 244-261 of the latter.\\n\\nThe Boston house-price data has been used in many machine learning papers that address regression\\nproblems.   \\n     \\n.. topic:: References\\n\\n   - Belsley, Kuh & Welsch, 'Regression diagnostics: Identifying Influential Data and Sources of Collinearity', Wiley, 1980. 244-261.\\n   - Quinlan,R. (1993). Combining Instance-Based and Model-Based Learning. In Proceedings on the Tenth International Conference of Machine Learning, 236-243, University of Massachusetts, Amherst. Morgan Kaufmann.\\n\",\n",
       " 'filename': 'D:\\\\anaconda3\\\\lib\\\\site-packages\\\\sklearn\\\\datasets\\\\data\\\\boston_house_prices.csv'}"
      ]
     },
     "execution_count": 4,
     "metadata": {},
     "output_type": "execute_result"
    }
   ],
   "source": [
    "data"
   ]
  },
  {
   "cell_type": "code",
   "execution_count": 5,
   "metadata": {},
   "outputs": [],
   "source": [
    "x=data.data\n",
    "y=data.target"
   ]
  },
  {
   "cell_type": "code",
   "execution_count": 6,
   "metadata": {},
   "outputs": [],
   "source": [
    "# 前记\n",
    "# python中什么对象不能作为字典的key：有__hash__方法可以做字典的key，没有则不能作为字典的key;\n",
    "# 除了list、dict、set和内部至少带有上述三种类型之一的tuple之外，其余对象均可作为字典的key；"
   ]
  },
  {
   "cell_type": "code",
   "execution_count": 7,
   "metadata": {},
   "outputs": [
    {
     "data": {
      "text/plain": [
       "(506, 13)"
      ]
     },
     "execution_count": 7,
     "metadata": {},
     "output_type": "execute_result"
    }
   ],
   "source": [
    "x.shape"
   ]
  },
  {
   "cell_type": "code",
   "execution_count": 8,
   "metadata": {},
   "outputs": [
    {
     "data": {
      "text/plain": [
       "(506,)"
      ]
     },
     "execution_count": 8,
     "metadata": {},
     "output_type": "execute_result"
    }
   ],
   "source": [
    "y.shape"
   ]
  },
  {
   "cell_type": "code",
   "execution_count": 9,
   "metadata": {},
   "outputs": [],
   "source": [
    "Xtrain,Xtest,Ytrain,Ytest=TTS(x,y,test_size=0.3,random_state=420)#随机数种子"
   ]
  },
  {
   "cell_type": "code",
   "execution_count": 10,
   "metadata": {},
   "outputs": [
    {
     "data": {
      "text/plain": [
       "array([ 6.6689262, 22.34918  , 31.052807 , 13.911595 ,  9.467966 ,\n",
       "       22.658588 , 14.514282 , 15.092699 , 15.293644 , 12.680115 ,\n",
       "       24.140797 , 35.890083 , 21.573483 , 27.07066  , 19.052658 ,\n",
       "        9.89033  , 23.386076 , 23.588493 , 23.311466 , 22.401644 ,\n",
       "       18.98444  , 15.766946 , 25.8352   , 20.193802 , 19.982517 ,\n",
       "       15.611423 , 22.883228 , 29.838228 , 22.815304 , 16.779037 ,\n",
       "       37.13194  , 20.133305 , 19.67352  , 23.525528 , 22.845137 ,\n",
       "       23.87397  , 15.17887  , 23.45934  , 16.685331 , 31.761686 ,\n",
       "       18.525843 , 22.441063 , 38.48728  , 17.93719  , 15.10122  ,\n",
       "       28.980541 , 46.363487 , 12.842797 ,  9.618281 , 35.40579  ,\n",
       "       25.657566 , 20.605602 , 20.800055 , 49.228447 , 31.355848 ,\n",
       "       29.382515 , 18.911947 , 21.049877 , 16.165182 , 18.098577 ,\n",
       "       14.659002 , 21.720213 , 19.413454 , 28.932102 , 30.573524 ,\n",
       "       19.228426 , 20.531511 , 15.666289 , 23.52929  , 19.30554  ,\n",
       "       28.384985 , 42.83562  , 29.429724 , 23.306015 , 19.741224 ,\n",
       "       24.202463 , 38.735516 , 26.782232 , 22.168324 , 20.67139  ,\n",
       "       19.534992 , 47.360317 , 24.008802 ,  8.184814 , 25.613977 ,\n",
       "       20.691843 , 17.127483 , 21.10027  , 22.279167 ,  7.755469 ,\n",
       "       20.0476   , 15.406112 , 42.38165  , 33.828186 , 22.788246 ,\n",
       "        9.302419 , 10.416187 , 20.033014 ,  8.241165 , 12.816478 ,\n",
       "       30.793974 , 10.078776 , 25.383692 , 21.933594 , 30.53568  ,\n",
       "       42.866497 , 19.598145 ,  8.321976 , 23.194368 , 12.547767 ,\n",
       "       46.838867 , 22.961082 , 20.244467 , 23.170694 , 18.948856 ,\n",
       "       29.682056 , 24.363865 , 19.715958 , 44.975193 , 17.64582  ,\n",
       "       24.3169   , 24.946495 , 18.23235  , 16.922577 , 14.77714  ,\n",
       "       21.757038 , 33.83876  , 10.938419 , 20.035763 , 21.085218 ,\n",
       "       19.331562 , 20.505526 ,  8.285518 , 28.01946  , 29.631227 ,\n",
       "       19.908175 , 18.30325  , 14.204149 , 10.795732 , 18.232307 ,\n",
       "       42.266888 , 17.304502 , 22.974121 , 20.946724 , 30.724297 ,\n",
       "       20.072989 , 12.772859 , 41.472908 , 27.652838 , 22.20476  ,\n",
       "       14.235871 , 25.88964  ], dtype=float32)"
      ]
     },
     "execution_count": 10,
     "metadata": {},
     "output_type": "execute_result"
    }
   ],
   "source": [
    "reg=XGBR(n_estimators=100).fit(Xtrain,Ytrain)#训练\n",
    "reg.predict(Xtest)#传统接口predict"
   ]
  },
  {
   "cell_type": "code",
   "execution_count": 11,
   "metadata": {},
   "outputs": [
    {
     "data": {
      "text/plain": [
       "0.9050988968414799"
      ]
     },
     "execution_count": 11,
     "metadata": {},
     "output_type": "execute_result"
    }
   ],
   "source": [
    "reg.score(Xtest,Ytest)"
   ]
  },
  {
   "cell_type": "code",
   "execution_count": 12,
   "metadata": {},
   "outputs": [
    {
     "data": {
      "text/plain": [
       "22.532806324110677"
      ]
     },
     "execution_count": 12,
     "metadata": {},
     "output_type": "execute_result"
    }
   ],
   "source": [
    "y.mean()"
   ]
  },
  {
   "cell_type": "code",
   "execution_count": 13,
   "metadata": {},
   "outputs": [
    {
     "data": {
      "text/plain": [
       "8.830916343629323"
      ]
     },
     "execution_count": 13,
     "metadata": {},
     "output_type": "execute_result"
    }
   ],
   "source": [
    "MSE(Ytest,reg.predict(Xtest))#均方误差"
   ]
  },
  {
   "cell_type": "code",
   "execution_count": 14,
   "metadata": {},
   "outputs": [
    {
     "data": {
      "text/plain": [
       "array([0.01902167, 0.0042109 , 0.01478317, 0.00553536, 0.02222195,\n",
       "       0.37914094, 0.01679687, 0.04698721, 0.04073574, 0.05491758,\n",
       "       0.0668422 , 0.00869463, 0.32011184], dtype=float32)"
      ]
     },
     "execution_count": 14,
     "metadata": {},
     "output_type": "execute_result"
    }
   ],
   "source": [
    "reg.feature_importances_#树模型的优势之一：能够查看模型特征的重要性分数，可以使用嵌入法(SelectFromModel)进行特征选择"
   ]
  },
  {
   "cell_type": "code",
   "execution_count": 15,
   "metadata": {},
   "outputs": [
    {
     "name": "stdout",
     "output_type": "stream",
     "text": [
      "-16.215644229762717\n"
     ]
    }
   ],
   "source": [
    "#交叉验证可以充分使用所有的训练数据用于评估模型，（使所有折产生的分数均值最高，调节模型参数？）\n",
    "reg=XGBR(n_estimators=100)#交叉验证中导入的没有经过训练的模型\n",
    "cvR2=CVS(reg,Xtrain,Ytrain,cv=5)#返回的评估指标是score函数返回的指标，这里是r平方,每一折的结果\n",
    "cvR2.mean()\n",
    "#使用负均方误差来作为评估指标\n",
    "reg=XGBR(n_estimators=100)#交叉验证中导入的没有经过训练的模型\n",
    "cvn=CVS(reg,Xtrain,Ytrain,cv=5,scoring='neg_mean_squared_error').mean()\n",
    "print(cvn)"
   ]
  },
  {
   "cell_type": "code",
   "execution_count": 16,
   "metadata": {},
   "outputs": [],
   "source": [
    "#严谨和不严谨的交叉验证\n",
    "#严谨的是只是用训练集来进行交叉验证\n",
    "#不严谨的是使用全数据集进行交叉验证，因为怀疑它泄露信息给模型"
   ]
  },
  {
   "cell_type": "code",
   "execution_count": 17,
   "metadata": {},
   "outputs": [
    {
     "data": {
      "text/plain": [
       "['accuracy',\n",
       " 'adjusted_mutual_info_score',\n",
       " 'adjusted_rand_score',\n",
       " 'average_precision',\n",
       " 'balanced_accuracy',\n",
       " 'completeness_score',\n",
       " 'explained_variance',\n",
       " 'f1',\n",
       " 'f1_macro',\n",
       " 'f1_micro',\n",
       " 'f1_samples',\n",
       " 'f1_weighted',\n",
       " 'fowlkes_mallows_score',\n",
       " 'homogeneity_score',\n",
       " 'jaccard',\n",
       " 'jaccard_macro',\n",
       " 'jaccard_micro',\n",
       " 'jaccard_samples',\n",
       " 'jaccard_weighted',\n",
       " 'max_error',\n",
       " 'mutual_info_score',\n",
       " 'neg_brier_score',\n",
       " 'neg_log_loss',\n",
       " 'neg_mean_absolute_error',\n",
       " 'neg_mean_gamma_deviance',\n",
       " 'neg_mean_poisson_deviance',\n",
       " 'neg_mean_squared_error',\n",
       " 'neg_mean_squared_log_error',\n",
       " 'neg_median_absolute_error',\n",
       " 'neg_root_mean_squared_error',\n",
       " 'normalized_mutual_info_score',\n",
       " 'precision',\n",
       " 'precision_macro',\n",
       " 'precision_micro',\n",
       " 'precision_samples',\n",
       " 'precision_weighted',\n",
       " 'r2',\n",
       " 'recall',\n",
       " 'recall_macro',\n",
       " 'recall_micro',\n",
       " 'recall_samples',\n",
       " 'recall_weighted',\n",
       " 'roc_auc',\n",
       " 'roc_auc_ovo',\n",
       " 'roc_auc_ovo_weighted',\n",
       " 'roc_auc_ovr',\n",
       " 'roc_auc_ovr_weighted',\n",
       " 'v_measure_score']"
      ]
     },
     "execution_count": 17,
     "metadata": {},
     "output_type": "execute_result"
    }
   ],
   "source": [
    "#查看sklearn中所有的模型评估指标\n",
    "import sklearn\n",
    "sorted(sklearn.metrics.SCORERS.keys())#本质对一个字典的键排序\n"
   ]
  },
  {
   "cell_type": "markdown",
   "metadata": {},
   "source": [
    "## 使用随机森林和线性回归进行一个对比"
   ]
  },
  {
   "cell_type": "code",
   "execution_count": 18,
   "metadata": {},
   "outputs": [
    {
     "data": {
      "text/plain": [
       "0.7968936380497528"
      ]
     },
     "execution_count": 18,
     "metadata": {},
     "output_type": "execute_result"
    }
   ],
   "source": [
    "#随机森林\n",
    "rfr = RFR(n_estimators=100)\n",
    "CVS(rfr,Xtrain,Ytrain,cv=5).mean()"
   ]
  },
  {
   "cell_type": "code",
   "execution_count": 19,
   "metadata": {},
   "outputs": [
    {
     "data": {
      "text/plain": [
       "-16.215644229762717"
      ]
     },
     "execution_count": 19,
     "metadata": {},
     "output_type": "execute_result"
    }
   ],
   "source": [
    "CVS(reg,Xtrain,Ytrain,cv=5,scoring=\"neg_mean_squared_error\").mean()"
   ]
  },
  {
   "cell_type": "code",
   "execution_count": 20,
   "metadata": {},
   "outputs": [
    {
     "data": {
      "text/plain": [
       "0.6835070597278096"
      ]
     },
     "execution_count": 20,
     "metadata": {},
     "output_type": "execute_result"
    }
   ],
   "source": [
    "#线性回归\n",
    "lr=LinearR()\n",
    "CVS(lr,Xtrain,Ytrain,cv=5).mean()"
   ]
  },
  {
   "cell_type": "code",
   "execution_count": 21,
   "metadata": {},
   "outputs": [
    {
     "data": {
      "text/plain": [
       "-25.349507493648325"
      ]
     },
     "execution_count": 21,
     "metadata": {},
     "output_type": "execute_result"
    }
   ],
   "source": [
    "CVS(lr,Xtrain,Ytrain,cv=5,scoring='neg_mean_squared_error').mean()"
   ]
  },
  {
   "cell_type": "code",
   "execution_count": 22,
   "metadata": {},
   "outputs": [
    {
     "name": "stdout",
     "output_type": "stream",
     "text": [
      "[21:31:10] INFO: C:/Users/Administrator/workspace/xgboost-win64_release_1.4.0/src/tree/updater_prune.cc:101: tree pruning end, 16 extra nodes, 0 pruned nodes, max_depth=4\n",
      "[21:31:10] INFO: C:/Users/Administrator/workspace/xgboost-win64_release_1.4.0/src/tree/updater_prune.cc:101: tree pruning end, 18 extra nodes, 0 pruned nodes, max_depth=5\n",
      "[21:31:10] INFO: C:/Users/Administrator/workspace/xgboost-win64_release_1.4.0/src/tree/updater_prune.cc:101: tree pruning end, 36 extra nodes, 0 pruned nodes, max_depth=6\n",
      "[21:31:10] INFO: C:/Users/Administrator/workspace/xgboost-win64_release_1.4.0/src/tree/updater_prune.cc:101: tree pruning end, 40 extra nodes, 0 pruned nodes, max_depth=6\n",
      "[21:31:10] INFO: C:/Users/Administrator/workspace/xgboost-win64_release_1.4.0/src/tree/updater_prune.cc:101: tree pruning end, 44 extra nodes, 0 pruned nodes, max_depth=6\n",
      "[21:31:10] INFO: C:/Users/Administrator/workspace/xgboost-win64_release_1.4.0/src/tree/updater_prune.cc:101: tree pruning end, 42 extra nodes, 0 pruned nodes, max_depth=6\n",
      "[21:31:10] INFO: C:/Users/Administrator/workspace/xgboost-win64_release_1.4.0/src/tree/updater_prune.cc:101: tree pruning end, 50 extra nodes, 0 pruned nodes, max_depth=6\n",
      "[21:31:10] INFO: C:/Users/Administrator/workspace/xgboost-win64_release_1.4.0/src/tree/updater_prune.cc:101: tree pruning end, 50 extra nodes, 0 pruned nodes, max_depth=6\n",
      "[21:31:10] INFO: C:/Users/Administrator/workspace/xgboost-win64_release_1.4.0/src/tree/updater_prune.cc:101: tree pruning end, 58 extra nodes, 0 pruned nodes, max_depth=6\n",
      "[21:31:10] INFO: C:/Users/Administrator/workspace/xgboost-win64_release_1.4.0/src/tree/updater_prune.cc:101: tree pruning end, 46 extra nodes, 0 pruned nodes, max_depth=6\n",
      "[21:31:10] INFO: C:/Users/Administrator/workspace/xgboost-win64_release_1.4.0/src/tree/updater_prune.cc:101: tree pruning end, 12 extra nodes, 0 pruned nodes, max_depth=4\n",
      "[21:31:10] INFO: C:/Users/Administrator/workspace/xgboost-win64_release_1.4.0/src/tree/updater_prune.cc:101: tree pruning end, 18 extra nodes, 0 pruned nodes, max_depth=4\n",
      "[21:31:10] INFO: C:/Users/Administrator/workspace/xgboost-win64_release_1.4.0/src/tree/updater_prune.cc:101: tree pruning end, 26 extra nodes, 0 pruned nodes, max_depth=6\n",
      "[21:31:10] INFO: C:/Users/Administrator/workspace/xgboost-win64_release_1.4.0/src/tree/updater_prune.cc:101: tree pruning end, 30 extra nodes, 0 pruned nodes, max_depth=6\n",
      "[21:31:10] INFO: C:/Users/Administrator/workspace/xgboost-win64_release_1.4.0/src/tree/updater_prune.cc:101: tree pruning end, 54 extra nodes, 0 pruned nodes, max_depth=6\n",
      "[21:31:10] INFO: C:/Users/Administrator/workspace/xgboost-win64_release_1.4.0/src/tree/updater_prune.cc:101: tree pruning end, 58 extra nodes, 0 pruned nodes, max_depth=6\n",
      "[21:31:10] INFO: C:/Users/Administrator/workspace/xgboost-win64_release_1.4.0/src/tree/updater_prune.cc:101: tree pruning end, 74 extra nodes, 0 pruned nodes, max_depth=6\n",
      "[21:31:10] INFO: C:/Users/Administrator/workspace/xgboost-win64_release_1.4.0/src/tree/updater_prune.cc:101: tree pruning end, 56 extra nodes, 0 pruned nodes, max_depth=6\n",
      "[21:31:10] INFO: C:/Users/Administrator/workspace/xgboost-win64_release_1.4.0/src/tree/updater_prune.cc:101: tree pruning end, 44 extra nodes, 0 pruned nodes, max_depth=6\n",
      "[21:31:10] INFO: C:/Users/Administrator/workspace/xgboost-win64_release_1.4.0/src/tree/updater_prune.cc:101: tree pruning end, 72 extra nodes, 0 pruned nodes, max_depth=6\n",
      "[21:31:10] INFO: C:/Users/Administrator/workspace/xgboost-win64_release_1.4.0/src/tree/updater_prune.cc:101: tree pruning end, 14 extra nodes, 0 pruned nodes, max_depth=5\n",
      "[21:31:10] INFO: C:/Users/Administrator/workspace/xgboost-win64_release_1.4.0/src/tree/updater_prune.cc:101: tree pruning end, 24 extra nodes, 0 pruned nodes, max_depth=6\n",
      "[21:31:10] INFO: C:/Users/Administrator/workspace/xgboost-win64_release_1.4.0/src/tree/updater_prune.cc:101: tree pruning end, 22 extra nodes, 0 pruned nodes, max_depth=6\n",
      "[21:31:10] INFO: C:/Users/Administrator/workspace/xgboost-win64_release_1.4.0/src/tree/updater_prune.cc:101: tree pruning end, 46 extra nodes, 0 pruned nodes, max_depth=6\n",
      "[21:31:10] INFO: C:/Users/Administrator/workspace/xgboost-win64_release_1.4.0/src/tree/updater_prune.cc:101: tree pruning end, 42 extra nodes, 0 pruned nodes, max_depth=6\n",
      "[21:31:10] INFO: C:/Users/Administrator/workspace/xgboost-win64_release_1.4.0/src/tree/updater_prune.cc:101: tree pruning end, 38 extra nodes, 0 pruned nodes, max_depth=6\n",
      "[21:31:10] INFO: C:/Users/Administrator/workspace/xgboost-win64_release_1.4.0/src/tree/updater_prune.cc:101: tree pruning end, 38 extra nodes, 0 pruned nodes, max_depth=6\n",
      "[21:31:10] INFO: C:/Users/Administrator/workspace/xgboost-win64_release_1.4.0/src/tree/updater_prune.cc:101: tree pruning end, 42 extra nodes, 0 pruned nodes, max_depth=6\n",
      "[21:31:10] INFO: C:/Users/Administrator/workspace/xgboost-win64_release_1.4.0/src/tree/updater_prune.cc:101: tree pruning end, 36 extra nodes, 0 pruned nodes, max_depth=6\n",
      "[21:31:10] INFO: C:/Users/Administrator/workspace/xgboost-win64_release_1.4.0/src/tree/updater_prune.cc:101: tree pruning end, 40 extra nodes, 0 pruned nodes, max_depth=6\n",
      "[21:31:10] INFO: C:/Users/Administrator/workspace/xgboost-win64_release_1.4.0/src/tree/updater_prune.cc:101: tree pruning end, 18 extra nodes, 0 pruned nodes, max_depth=5\n",
      "[21:31:10] INFO: C:/Users/Administrator/workspace/xgboost-win64_release_1.4.0/src/tree/updater_prune.cc:101: tree pruning end, 24 extra nodes, 0 pruned nodes, max_depth=6\n",
      "[21:31:10] INFO: C:/Users/Administrator/workspace/xgboost-win64_release_1.4.0/src/tree/updater_prune.cc:101: tree pruning end, 24 extra nodes, 0 pruned nodes, max_depth=6\n",
      "[21:31:10] INFO: C:/Users/Administrator/workspace/xgboost-win64_release_1.4.0/src/tree/updater_prune.cc:101: tree pruning end, 38 extra nodes, 0 pruned nodes, max_depth=6\n",
      "[21:31:10] INFO: C:/Users/Administrator/workspace/xgboost-win64_release_1.4.0/src/tree/updater_prune.cc:101: tree pruning end, 38 extra nodes, 0 pruned nodes, max_depth=6\n",
      "[21:31:10] INFO: C:/Users/Administrator/workspace/xgboost-win64_release_1.4.0/src/tree/updater_prune.cc:101: tree pruning end, 34 extra nodes, 0 pruned nodes, max_depth=6\n",
      "[21:31:10] INFO: C:/Users/Administrator/workspace/xgboost-win64_release_1.4.0/src/tree/updater_prune.cc:101: tree pruning end, 64 extra nodes, 0 pruned nodes, max_depth=6\n",
      "[21:31:10] INFO: C:/Users/Administrator/workspace/xgboost-win64_release_1.4.0/src/tree/updater_prune.cc:101: tree pruning end, 62 extra nodes, 0 pruned nodes, max_depth=6\n",
      "[21:31:10] INFO: C:/Users/Administrator/workspace/xgboost-win64_release_1.4.0/src/tree/updater_prune.cc:101: tree pruning end, 40 extra nodes, 0 pruned nodes, max_depth=6\n",
      "[21:31:10] INFO: C:/Users/Administrator/workspace/xgboost-win64_release_1.4.0/src/tree/updater_prune.cc:101: tree pruning end, 36 extra nodes, 0 pruned nodes, max_depth=6\n",
      "[21:31:10] INFO: C:/Users/Administrator/workspace/xgboost-win64_release_1.4.0/src/tree/updater_prune.cc:101: tree pruning end, 18 extra nodes, 0 pruned nodes, max_depth=4\n",
      "[21:31:10] INFO: C:/Users/Administrator/workspace/xgboost-win64_release_1.4.0/src/tree/updater_prune.cc:101: tree pruning end, 20 extra nodes, 0 pruned nodes, max_depth=6\n",
      "[21:31:10] INFO: C:/Users/Administrator/workspace/xgboost-win64_release_1.4.0/src/tree/updater_prune.cc:101: tree pruning end, 38 extra nodes, 0 pruned nodes, max_depth=6\n",
      "[21:31:10] INFO: C:/Users/Administrator/workspace/xgboost-win64_release_1.4.0/src/tree/updater_prune.cc:101: tree pruning end, 30 extra nodes, 0 pruned nodes, max_depth=6\n",
      "[21:31:10] INFO: C:/Users/Administrator/workspace/xgboost-win64_release_1.4.0/src/tree/updater_prune.cc:101: tree pruning end, 56 extra nodes, 0 pruned nodes, max_depth=6\n",
      "[21:31:10] INFO: C:/Users/Administrator/workspace/xgboost-win64_release_1.4.0/src/tree/updater_prune.cc:101: tree pruning end, 46 extra nodes, 0 pruned nodes, max_depth=6\n",
      "[21:31:10] INFO: C:/Users/Administrator/workspace/xgboost-win64_release_1.4.0/src/tree/updater_prune.cc:101: tree pruning end, 56 extra nodes, 0 pruned nodes, max_depth=6\n",
      "[21:31:10] INFO: C:/Users/Administrator/workspace/xgboost-win64_release_1.4.0/src/tree/updater_prune.cc:101: tree pruning end, 38 extra nodes, 0 pruned nodes, max_depth=6\n",
      "[21:31:10] INFO: C:/Users/Administrator/workspace/xgboost-win64_release_1.4.0/src/tree/updater_prune.cc:101: tree pruning end, 30 extra nodes, 0 pruned nodes, max_depth=6\n",
      "[21:31:10] INFO: C:/Users/Administrator/workspace/xgboost-win64_release_1.4.0/src/tree/updater_prune.cc:101: tree pruning end, 32 extra nodes, 0 pruned nodes, max_depth=6\n"
     ]
    },
    {
     "data": {
      "text/plain": [
       "-18.633733952333067"
      ]
     },
     "execution_count": 22,
     "metadata": {},
     "output_type": "execute_result"
    }
   ],
   "source": [
    "#如果开启参数verbosity,在数据巨大，预料到算法会非常缓慢的时候可以使用这个参数来监控模型的训练进度\n",
    "reg=XGBR(n_estimators=10,verbosity=2)\n",
    "CVS(reg,Xtrain,Ytrain,cv=5,scoring=\"neg_mean_squared_error\").mean()"
   ]
  },
  {
   "cell_type": "markdown",
   "metadata": {},
   "source": [
    "### 查看学习曲线"
   ]
  },
  {
   "cell_type": "code",
   "execution_count": 23,
   "metadata": {},
   "outputs": [],
   "source": [
    "#应该与上面无关，直接选取数据，看放在这种模型中训练和测试的 结果\n",
    "#支持向量机和朴素贝叶斯的内容\n",
    "def plot_learning_curve(estimator,title,x,y,\n",
    "                       ax=None,#选择子图\n",
    "                       ylim=None,#设置纵坐标的取值范围\n",
    "                       cv=None,#交叉验证\n",
    "                       n_jobs=None#设定所要使用的线程\n",
    "                       ):\n",
    "    from sklearn.model_selection import learning_curve\n",
    "    import matplotlib.pyplot as plt\n",
    "    import numpy as np\n",
    "    train_sizes,train_scores,test_scores=learning_curve(estimator,x,y,\n",
    "                                                       shuffle=True,\n",
    "                                                        cv=cv,\n",
    "                                                        random_state=420,\n",
    "                                                        n_jobs=n_jobs\n",
    "                                                       )\n",
    "    if ax==None:\n",
    "        ax=plt.gca()\n",
    "    else:\n",
    "        ax=plt.figure()\n",
    "    ax.set_title(title)\n",
    "    if ylim is not None:\n",
    "        ax.set_ylim(*ylim)\n",
    "    ax.set_xlabel(\"Training examples\")\n",
    "    ax.set_ylabel(\"Score\")\n",
    "    ax.grid()#绘制网格，不是必要的\n",
    "    ax.plot(train_sizes,np.mean(train_scores,axis=1),'o-',color='r',label=\"Training score\")\n",
    "    ax.plot(train_sizes,np.mean(test_scores,axis=1),'o-',color='g',label=\"Test score\")\n",
    "    ax.legend(loc=\"best\")\n",
    "    return ax"
   ]
  },
  {
   "cell_type": "code",
   "execution_count": 24,
   "metadata": {},
   "outputs": [],
   "source": [
    "cv = KFold(n_splits=5,shuffle=True,random_state=420)#交叉验证模式（5折，分份之前打乱）"
   ]
  },
  {
   "cell_type": "code",
   "execution_count": 25,
   "metadata": {},
   "outputs": [
    {
     "data": {
      "text/plain": [
       "<AxesSubplot:title={'center':'XGB'}, xlabel='Training examples', ylabel='Score'>"
      ]
     },
     "execution_count": 25,
     "metadata": {},
     "output_type": "execute_result"
    },
    {
     "data": {
      "image/png": "[encoded data removed]",
      "text/plain": [
       "<Figure size 432x288 with 1 Axes>"
      ]
     },
     "metadata": {
      "needs_background": "light"
     },
     "output_type": "display_data"
    }
   ],
   "source": [
    "plot_learning_curve(XGBR(n_estimators=100,random_state=420,verbosity=0)#静默，不显示运行进度\n",
    "                    ,\"XGB\",Xtrain,Ytrain,ax=None,cv=cv)"
   ]
  },
  {
   "cell_type": "markdown",
   "metadata": {},
   "source": [
    "### 使用曲线观察n_estimators对模型的影响"
   ]
  },
  {
   "cell_type": "code",
   "execution_count": 26,
   "metadata": {},
   "outputs": [
    {
     "name": "stdout",
     "output_type": "stream",
     "text": [
      "260 0.8131149348490775\n"
     ]
    },
    {
     "data": {
      "image/png": "[encoded data removed]",
      "text/plain": [
       "<Figure size 1440x360 with 1 Axes>"
      ]
     },
     "metadata": {
      "needs_background": "light"
     },
     "output_type": "display_data"
    }
   ],
   "source": [
    "axisx = range(10,1010,50)\n",
    "rs=[]\n",
    "for i in axisx:\n",
    "    reg = XGBR(n_estimators=i,random_state=420)\n",
    "    rs.append(CVS(reg,Xtrain,Ytrain,cv=cv).mean())\n",
    "print(axisx[rs.index(max(rs))],max(rs))\n",
    "plt.figure(figsize=(20,5))\n",
    "plt.plot(axisx,rs,c=\"red\",label=\"XGB\")\n",
    "plt.legend()\n",
    "plt.show()"
   ]
  },
  {
   "cell_type": "markdown",
   "metadata": {},
   "source": [
    "### 进化的曲线：泛化误差考虑偏差和方差"
   ]
  },
  {
   "cell_type": "code",
   "execution_count": 27,
   "metadata": {},
   "outputs": [
    {
     "name": "stdout",
     "output_type": "stream",
     "text": [
      "[0.8129991734412126, 0.813111116299579, 0.8131149339228717, 0.8131149337442511, 0.8131149348490775, 0.8131149348490775, 0.8131149348490775, 0.8131149348490775, 0.8131149348490775, 0.8131149348490775, 0.8131149348490775, 0.8131149348490775, 0.8131149348490775, 0.8131149348490775, 0.8131149348490775, 0.8131149348490775, 0.8131149348490775, 0.8131149348490775, 0.8131149348490775, 0.8131149348490775]\n",
      "[0.008871621645894516, 0.008858156124412863, 0.00885234840460258, 0.008852347596166613, 0.008852347181932483, 0.008852347181932483, 0.008852347181932483, 0.008852347181932483, 0.008852347181932483, 0.008852347181932483, 0.008852347181932483, 0.008852347181932483, 0.008852347181932483, 0.008852347181932483, 0.008852347181932483, 0.008852347181932483, 0.008852347181932483, 0.008852347181932483, 0.008852347181932483, 0.008852347181932483]\n",
      "[0.043840930779564184, 0.04378561097520235, 0.04377837632725519, 0.04377837558558225, 0.043778374758397035, 0.043778374758397035, 0.043778374758397035, 0.043778374758397035, 0.043778374758397035, 0.043778374758397035, 0.043778374758397035, 0.043778374758397035, 0.043778374758397035, 0.043778374758397035, 0.043778374758397035, 0.043778374758397035, 0.043778374758397035, 0.043778374758397035, 0.043778374758397035, 0.043778374758397035]\n",
      "250 0.8131149348490775 0.008852347181932483\n",
      "250 0.8131149348490775 0.008852347181932483\n",
      "250 0.8131149348490775 0.008852347181932483 0.043778374758397035\n"
     ]
    },
    {
     "data": {
      "image/png": "[encoded data removed]",
      "text/plain": [
       "<Figure size 1440x360 with 1 Axes>"
      ]
     },
     "metadata": {
      "needs_background": "light"
     },
     "output_type": "display_data"
    }
   ],
   "source": [
    "#以前往往取学习曲线获得分数最高的点，即考虑偏差最小的点，因为模型不稳定，方差很大的情况少见\n",
    "#但数据量少模型会相对不稳定，因此考虑方差\n",
    "\n",
    "axisx=range(50,1050,50)\n",
    "rs=[]\n",
    "var=[]\n",
    "ge=[]\n",
    "for i in axisx:\n",
    "    reg=XGBR(n_estimators=i,random_state=420)\n",
    "    cvresult = CVS(reg,Xtrain,Ytrain,cv=cv)\n",
    "    #记录准确度吧，来计算偏差\n",
    "    rs.append(cvresult.mean())\n",
    "    #记录方差\n",
    "    var.append(cvresult.var())\n",
    "    #计算泛化误差的可控部分\n",
    "    ge.append((1-cvresult.mean())**2+cvresult.var())#1-准确度是偏差\n",
    "print(rs)\n",
    "print(var)\n",
    "print(ge)\n",
    "#打印r2最高所对应的参数取值，并打印这个参数下的方差\n",
    "print(axisx[rs.index(max(rs))],max(rs),var[rs.index(max(rs))])\n",
    "#打印方差最低时对应的参数取值，并打印这个参数下的r2\n",
    "print(axisx[var.index(min(var))],rs[var.index(min(var))],min(var))\n",
    "#打印泛化误差可控部分的参数取值，并打印这个参数下的r2，方差以及泛化误差的可控部分\n",
    "print(axisx[ge.index(min(ge))],rs[ge.index(min(ge))],var[ge.index(min(ge))],min(ge))\n",
    "plt.figure(figsize=(20,5))\n",
    "plt.plot(axisx,rs,c=\"red\",label=\"XGB\")\n",
    "plt.legend()\n",
    "plt.show()\n",
    "\n",
    "\n"
   ]
  },
  {
   "cell_type": "code",
   "execution_count": 28,
   "metadata": {},
   "outputs": [
    {
     "name": "stdout",
     "output_type": "stream",
     "text": [
      "240 0.8131149348490775 0.008852347181932483\n",
      "240 0.8131149348490775 0.008852347181932483\n",
      "240 0.8131149348490775 0.008852347181932483 0.043778374758397035\n"
     ]
    },
    {
     "data": {
      "image/png": "[encoded data removed]",
      "text/plain": [
       "<Figure size 1440x360 with 1 Axes>"
      ]
     },
     "metadata": {
      "needs_background": "light"
     },
     "output_type": "display_data"
    }
   ],
   "source": [
    "#以前往往取学习曲线获得分数最高的点，即考虑偏差最小的点，因为模型不稳定，方差很大的情况少见\n",
    "#但数据量少模型会相对不稳定，因此考虑方差\n",
    "\n",
    "axisx=range(200,300,10)\n",
    "rs=[]\n",
    "var=[]\n",
    "ge=[]\n",
    "for i in axisx:\n",
    "    reg=XGBR(n_estimators=i,random_state=420)\n",
    "    cvresult = CVS(reg,Xtrain,Ytrain,cv=cv)\n",
    "    #记录准确度吧，来计算偏差\n",
    "    rs.append(cvresult.mean())\n",
    "    #记录方差\n",
    "    var.append(cvresult.var())\n",
    "    #计算泛化误差的可控部分\n",
    "    ge.append((1-cvresult.mean())**2+cvresult.var())#1-准确度是偏差\n",
    "# print(rs)\n",
    "# print(var)\n",
    "# print(ge)\n",
    "#打印r2最高所对应的参数取值，并打印这个参数下的方差\n",
    "print(axisx[rs.index(max(rs))],max(rs),var[rs.index(max(rs))])\n",
    "#打印方差最低时对应的参数取值，并打印这个参数下的r2\n",
    "print(axisx[var.index(min(var))],rs[var.index(min(var))],min(var))\n",
    "#打印泛化误差可控部分的参数取值，并打印这个参数下的r2，方差以及泛化误差的可控部分\n",
    "print(axisx[ge.index(min(ge))],rs[ge.index(min(ge))],var[ge.index(min(ge))],min(ge))\n",
    "rs= np.array(rs)\n",
    "var=np.array(var)*0.01\n",
    "plt.figure(figsize=(20,5))\n",
    "plt.plot(axisx,rs,c=\"black\",label=\"XGB\")\n",
    "#添加方差线\n",
    "plt.plot(axisx,rs+var,c='red',linestyle='-.')\n",
    "plt.plot(axisx,rs-var,c='red',linestyle='-.')\n",
    "plt.legend()\n",
    "plt.show()"
   ]
  },
  {
   "cell_type": "code",
   "execution_count": 32,
   "metadata": {},
   "outputs": [
    {
     "data": {
      "text/plain": [
       "0.8131149348490775"
      ]
     },
     "execution_count": 32,
     "metadata": {},
     "output_type": "execute_result"
    }
   ],
   "source": [
    "reg = XGBR(n_estimators=240,random_state=420)\n",
    "CVS(reg,Xtrain,Ytrain,cv=cv).mean()"
   ]
  },
  {
   "cell_type": "markdown",
   "metadata": {},
   "source": [
    "## 设置抽样比例参数subsample"
   ]
  },
  {
   "cell_type": "code",
   "execution_count": 26,
   "metadata": {},
   "outputs": [
    {
     "name": "stdout",
     "output_type": "stream",
     "text": [
      "0.7894736842105263 0.8311535529353655\n"
     ]
    },
    {
     "data": {
      "image/png": "[encoded data removed]",
      "text/plain": [
       "<Figure size 1440x360 with 1 Axes>"
      ]
     },
     "metadata": {
      "needs_background": "light"
     },
     "output_type": "display_data"
    }
   ],
   "source": [
    "#如果数据比较多，上千个可以设置有放回抽样比例，数据少了可能会使效果变差\n",
    "\n",
    "\n",
    "axisx = np.linspace(0,1,20)\n",
    "rs=[]\n",
    "for i in axisx:\n",
    "    reg=XGBR(n_estimators=180,subsample=i,random_state=420)\n",
    "    rs.append(CVS(reg,Xtrain,Ytrain,cv=cv).mean())\n",
    "print(axisx[rs.index(max(rs))],max(rs))\n",
    "plt.figure(figsize=(20,5))\n",
    "plt.plot(axisx,rs,c='green',label='XGB')\n",
    "plt.legend()\n",
    "plt.show()"
   ]
  },
  {
   "cell_type": "code",
   "execution_count": 34,
   "metadata": {},
   "outputs": [
    {
     "name": "stdout",
     "output_type": "stream",
     "text": [
      "0.9210526315789473 0.8287661924765001 0.004499699130809352\n",
      "0.968421052631579 0.8250932217347176 0.0019168353099589368\n",
      "0.731578947368421 0.8283417804591506 0.002643126920547396 0.032109671256481835\n"
     ]
    },
    {
     "data": {
      "image/png": "[encoded data removed]",
      "text/plain": [
       "<Figure size 1440x360 with 1 Axes>"
      ]
     },
     "metadata": {
      "needs_background": "light"
     },
     "output_type": "display_data"
    }
   ],
   "source": [
    "axisx = np.linspace(0.7,1,20)\n",
    "rs=[]\n",
    "var=[]\n",
    "ge=[]\n",
    "for i in axisx:\n",
    "    reg=XGBR(n_estimators=180,subsample=i,random_state=420)\n",
    "    cvresult=CVS(reg,Xtrain,Ytrain,cv=cv)\n",
    "    rs.append(cvresult.mean())\n",
    "    var.append(cvresult.var())\n",
    "    ge.append((1-cvresult.mean())**2+cvresult.var())\n",
    "print(axisx[rs.index(max(rs))],max(rs),var[rs.index(max(rs))])\n",
    "print(axisx[var.index(min(var))],rs[var.index(min(var))],min(var))\n",
    "print(axisx[ge.index(min(ge))],rs[ge.index(min(ge))],var[ge.index(min(ge))],min(ge))\n",
    "rs=np.array(rs)\n",
    "var=np.array(var)\n",
    "\n",
    "plt.figure(figsize=(20,5))\n",
    "plt.plot(axisx,rs,c='black',label='XGB')\n",
    "plt.plot(axisx,rs+var,c='red',linestyle='-.')\n",
    "plt.plot(axisx,rs-var,c='red',linestyle='-.')\n",
    "plt.legend()\n",
    "plt.show()"
   ]
  },
  {
   "cell_type": "markdown",
   "metadata": {},
   "source": [
    "## 重要参数eta，集成学习的学习率，像小步长的系数"
   ]
  },
  {
   "cell_type": "markdown",
   "metadata": {},
   "source": [
    "### 每次迭代都添加一棵使效果更好的树，就像梯度下降的参数减去一个小步长"
   ]
  },
  {
   "cell_type": "code",
   "execution_count": 35,
   "metadata": {},
   "outputs": [],
   "source": [
    "#在sklearn名称：learniing_rate:[0,1]取零的时候只建一棵树\n",
    "#在xgboost库中：eta，默认0.3，[0,1]"
   ]
  },
  {
   "cell_type": "code",
   "execution_count": 53,
   "metadata": {},
   "outputs": [],
   "source": [
    "#定义评分函数，能够直接打印Xtrain上的交叉验证结果\n",
    "def regassess(reg,Xtrain,Ytrain,cv,scoring=[\"r2\"],show=True):\n",
    "    score=[]#存放评估分数\n",
    "    for i in range(len(scoring)):#遍历每种评估方法\n",
    "        if show:\n",
    "            print(\"{}:{:.2f}\".format(scoring[i]\n",
    "                                    ,CVS(reg,Xtrain,Ytrain,cv=cv,scoring=scoring[i]).mean()\n",
    "                                    ))\n",
    "        score.append(CVS(reg,Xtrain,Ytrain,cv=cv,scoring=scoring[i]).mean())\n",
    "    return score"
   ]
  },
  {
   "cell_type": "code",
   "execution_count": 54,
   "metadata": {},
   "outputs": [
    {
     "name": "stdout",
     "output_type": "stream",
     "text": [
      "learning_rate=0\n",
      "r2:-6.57\n",
      "neg_mean_squared_error:-567.83\n",
      "00:01:578550\n",
      "\t\n",
      "learning_rate=0.2\n",
      "r2:0.83\n",
      "neg_mean_squared_error:-12.79\n",
      "00:02:314557\n",
      "\t\n",
      "learning_rate=0.5\n",
      "r2:0.79\n",
      "neg_mean_squared_error:-14.64\n",
      "00:02:007047\n",
      "\t\n",
      "learning_rate=1\n",
      "r2:0.65\n",
      "neg_mean_squared_error:-24.99\n",
      "00:01:445382\n",
      "\t\n"
     ]
    }
   ],
   "source": [
    "from time import time\n",
    "import datetime\n",
    "for i in [0,0.2,0.5,1]:\n",
    "    time0=time()\n",
    "    reg=XGBR(n_estimators=100,random_state=420,learning_rate=i)\n",
    "    print(\"learning_rate={}\".format(i))\n",
    "    regassess(reg,Xtrain,Ytrain,cv,scoring=[\"r2\",\"neg_mean_squared_error\"])\n",
    "    print(datetime.datetime.fromtimestamp(time()-time0).strftime(\"%M:%S:%f\"))\n",
    "    print(\"\\t\")"
   ]
  },
  {
   "cell_type": "code",
   "execution_count": 55,
   "metadata": {},
   "outputs": [
    {
     "name": "stdout",
     "output_type": "stream",
     "text": [
      "[0.8457607559396024, -11.613703037105836]\n",
      "hello\n",
      "[0.8483121008441683, -11.474505792484141]\n",
      "hello\n",
      "[0.8359096133316328, -12.23150300037418]\n",
      "hello\n",
      "[0.828934729300359, -12.787330816989833]\n",
      "hello\n",
      "[0.830032308309602, -12.924891309730736]\n",
      "hello\n",
      "[0.8131149337134171, -13.797196703158395]\n",
      "hello\n",
      "[0.8138824673603011, -13.253032605202957]\n",
      "hello\n",
      "[0.8187431624535713, -13.553371069806492]\n",
      "hello\n",
      "[0.8082512702252572, -14.069688743356224]\n",
      "hello\n",
      "[0.7944308655045413, -14.640465414661282]\n",
      "hello\n",
      "[0.8066627452148731, -14.172808378328668]\n",
      "hello\n",
      "[0.7804685381362675, -15.701864682436419]\n",
      "hello\n",
      "[0.7992219390426103, -14.59363453954111]\n",
      "hello\n",
      "[0.7247291413742933, -19.800960941838145]\n",
      "hello\n",
      "[0.7658549399985425, -17.605039120289096]\n",
      "hello\n",
      "[0.7526068074477901, -18.76666258801963]\n",
      "hello\n",
      "[0.7327422769123866, -19.626480761944237]\n",
      "hello\n",
      "[0.7173921036407537, -20.970626119836826]\n",
      "hello\n",
      "[0.7185418308164216, -21.34257950127547]\n",
      "hello\n",
      "0.1 0.8483121008441683\n"
     ]
    },
    {
     "data": {
      "image/png": "[encoded data removed]",
      "text/plain": [
       "<Figure size 1440x360 with 1 Axes>"
      ]
     },
     "metadata": {
      "needs_background": "light"
     },
     "output_type": "display_data"
    }
   ],
   "source": [
    "axisx=np.arange(0.05,1,0.05)\n",
    "rs=[]\n",
    "te=[]\n",
    "\n",
    "for i in axisx:\n",
    "    reg=XGBR(n_estimators=180,random_state=420,learning_rate=i)\n",
    "    \n",
    "    score=regassess(reg,Xtrain,Ytrain,cv,scoring=[\"r2\",\"neg_mean_squared_error\"],show=False)\n",
    "    \n",
    "    test=reg.fit(Xtrain,Ytrain).score(Xtest,Ytest)\n",
    "    print(score)\n",
    "    rs.append(score[0])\n",
    "    print(\"hello\")\n",
    "    te.append(test)\n",
    "\n",
    "print(axisx[rs.index(max(rs))],max(rs))\n",
    "plt.figure(figsize=(20,5))\n",
    "plt.plot(axisx,te,c='gray',label='XGB')\n",
    "plt.plot(axisx,rs,c=\"green\",label='XGB')\n",
    "plt.legend()\n",
    "plt.show()"
   ]
  },
  {
   "cell_type": "code",
   "execution_count": null,
   "metadata": {},
   "outputs": [],
   "source": []
  }
 ],
 "metadata": {
  "kernelspec": {
   "display_name": "Python 3",
   "language": "python",
   "name": "python3"
  },
  "language_info": {
   "codemirror_mode": {
    "name": "ipython",
    "version": 3
   },
   "file_extension": ".py",
   "mimetype": "text/x-python",
   "name": "python",
   "nbconvert_exporter": "python",
   "pygments_lexer": "ipython3",
   "version": "3.8.5"
  }
 },
 "nbformat": 4,
 "nbformat_minor": 4
}
