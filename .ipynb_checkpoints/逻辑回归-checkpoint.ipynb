{
 "cells": [
  {
   "cell_type": "code",
   "execution_count": null,
   "metadata": {},
   "outputs": [],
   "source": [
    "#逻辑回归将线性回归结果作为sigmoid函数的参数\n",
    "#逻辑回归是用来做分类的，最终值在0-1之间，认为是概率\n",
    "#返回概率，在线性数据上表现优秀的分类器\n",
    "#数学目的是求解能够让模型对数据拟合程度最高的  线系数 以此构建预测函数y(x),然后将特征矩阵输入预测函数来计算出逻辑回归结果\n",
    "#只有求解参数的模型，才有损失函数，参数是自变量，使用已有的值求参数使损失函数最小\n",
    "#正则化，将原有的损失函数变为加上关于参数的一个东西，本质还是损失函数\n",
    "#l1正则化会将参数压缩为0，即这个参数对应特征就没用，可以防止过拟合，L2正则化会让参数尽量小，不会取到0\n"
   ]
  }
 ],
 "metadata": {
  "kernelspec": {
   "display_name": "Python 3",
   "language": "python",
   "name": "python3"
  },
  "language_info": {
   "codemirror_mode": {
    "name": "ipython",
    "version": 3
   },
   "file_extension": ".py",
   "mimetype": "text/x-python",
   "name": "python",
   "nbconvert_exporter": "python",
   "pygments_lexer": "ipython3",
   "version": "3.8.5"
  }
 },
 "nbformat": 4,
 "nbformat_minor": 4
}
